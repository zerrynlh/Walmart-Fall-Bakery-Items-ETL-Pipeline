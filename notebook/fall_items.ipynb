{
 "cells": [
  {
   "cell_type": "markdown",
   "id": "d37a74d9-0fd5-4893-adc2-61546c848990",
   "metadata": {},
   "source": [
    "# Building an ETL Pipeline for Fall Seasonal Bakery Items from Walmart"
   ]
  },
  {
   "cell_type": "code",
   "execution_count": 2,
   "id": "743cb785-6afb-456f-b38b-27d77578e3be",
   "metadata": {},
   "outputs": [],
   "source": [
    "import requests\n",
    "import json\n",
    "from bs4 import BeautifulSoup\n",
    "import re"
   ]
  },
  {
   "cell_type": "code",
   "execution_count": 3,
   "id": "f8a9a66a-2379-470c-a544-931f6571d376",
   "metadata": {},
   "outputs": [],
   "source": [
    "url = 'https://www.walmart.com/browse/food/seasonal-bakery/976759_976779_7443156_4622028?povid=976759_ItemCarousel_4302028_Fallbakerytreats_ViewAll_Rweb_Sept_05'\n",
    "headers = {\n",
    "    'User-Agent': 'Mozilla/5.0 (Windows NT 10.0; Win64; x64) AppleWebKit/537.36 (KHTML, like Gecko) Chrome/114.0.0.0 Safari/537.36',\n",
    "}"
   ]
  },
  {
   "cell_type": "markdown",
   "id": "226a3696-9072-4d9a-945f-30109eecdb46",
   "metadata": {},
   "source": [
    "### Web Scraping"
   ]
  },
  {
   "cell_type": "code",
   "execution_count": 4,
   "id": "d165dbb4-af2e-4ec3-aacc-1b66c1c7566e",
   "metadata": {},
   "outputs": [],
   "source": [
    "r = requests.get(url, headers=headers)"
   ]
  },
  {
   "cell_type": "code",
   "execution_count": 5,
   "id": "7ebfbb2e-3665-4f63-91d0-ef6c404e52bf",
   "metadata": {},
   "outputs": [],
   "source": [
    "# Check for successful response\n",
    "if r.status_code == 403:\n",
    "    print(\"Access Forbidden. The server may be blocking requests.\")\n",
    "else:\n",
    "    r = r.text"
   ]
  },
  {
   "cell_type": "code",
   "execution_count": null,
   "id": "52efdc67-b1e5-4a08-b791-e10a44fefc30",
   "metadata": {
    "scrolled": true
   },
   "outputs": [],
   "source": [
    "# Parse HTML and make readable\n",
    "soup = BeautifulSoup(r, 'html.parser')\n",
    "print(soup.prettify())"
   ]
  },
  {
   "cell_type": "code",
   "execution_count": 7,
   "id": "2a96dd91-d6e6-4a9d-a52f-c9b1a26aaad3",
   "metadata": {},
   "outputs": [],
   "source": [
    "# Obtain prices\n",
    "prices = soup.find_all('span', class_='w_iUH7', string=lambda t: t and 'price' in t.lower())\n",
    "cur_prices = [str(i).split('$')[1].split('<')[0] for i in prices]\n",
    "\n",
    "# Obtain titles\n",
    "title_start = soup.find_all('span', class_='normal dark-gray mb0 mt1 lh-title f6 f5-l lh-copy')\n",
    "title = [i.get_text().split(',')[0] for i in title_start]\n",
    "\n",
    "# Get weights from ounces in title\n",
    "weights = [i.get_text().split(',')[1] for i in title_start]\n",
    "\n",
    "# Get shelf stable status\n",
    "shelf_stable = [bool(re.search('shelf stable', i.get_text().lower())) for i in title_start]\n",
    "\n",
    "# Get current ratings\n",
    "rating_start = soup.find_all('span', class_='w_iUH7', string=lambda b: b and 'stars' in b.lower())\n",
    "cur_rating = [float(i.get_text().split(' ')[0]) for i in rating_start]"
   ]
  },
  {
   "cell_type": "code",
   "execution_count": 8,
   "id": "f0b444b0-8334-480e-bd4a-4a695032235f",
   "metadata": {},
   "outputs": [
    {
     "name": "stdout",
     "output_type": "stream",
     "text": [
      "['4.48', '3.98', '5.84', '4.48', '6.47', '7.47', '5.84', '3.98', '3.98']\n",
      "['Freshness Guaranteed Tri Pumpkin Face Sugar Cookies', 'Freshness Guaranteed Harvest Orange Frosted Sugar Cookies', 'Freshness Guaranteed Pumpkin Cake Roll', 'Freshness Guaranteed Pumpkin Shaped Vanilla Frosted Cookie', 'Freshness Guaranteed Assorted Harvest Cookies', 'Freshness Guaranteed Sugared Shortbread Cookies', 'Freshness Guaranteed Frosted Sugar Cookies', 'Walmart Freshness Guaranteed Fall Vanilla & Chocolate Mini Cupcakes', 'Freshness Guaranteed Half Moon Iced Fall Bakery Cookies']\n",
      "[' Baked', ' 13.5 oz', ' 18 oz', ' 13.5 OZ', ' 21 oz', ' 16 oz', ' Harvest Yellow and Orange 24.3 oz', ' 10 oz', ' 10oz']\n",
      "[False, False, False, True, False, False, False, False, False]\n",
      "[]\n"
     ]
    }
   ],
   "source": [
    "print(cur_prices)\n",
    "print(title)\n",
    "print(weights)\n",
    "print(shelf_stable)\n",
    "print(cur_rating)"
   ]
  },
  {
   "cell_type": "markdown",
   "id": "d980282b-6367-4abc-bdf1-39e59cd8d0c4",
   "metadata": {},
   "source": [
    "Only one rating was found for the items. We will use the JSON response to obtain rating data."
   ]
  },
  {
   "cell_type": "code",
   "execution_count": null,
   "id": "68599a19-9bfe-4ae2-96da-bc192808ba12",
   "metadata": {
    "scrolled": true
   },
   "outputs": [],
   "source": [
    "# Get JSON data from script tag\n",
    "script_tag = soup.find('script', id='__NEXT_DATA__')\n",
    "\n",
    "if script_tag:\n",
    "    json_content = script_tag.string  # Get the content of the script tag\n",
    "\n",
    "    json_data = json.loads(json_content)\n",
    "    \n",
    "    print(json_data)\n",
    "else:\n",
    "    print(\"JSON data not found in the HTML.\")"
   ]
  },
  {
   "cell_type": "markdown",
   "id": "b31381cc-22da-45fe-b4fd-9e430c6b0903",
   "metadata": {},
   "source": [
    "#### Exploring the Data"
   ]
  },
  {
   "cell_type": "code",
   "execution_count": 10,
   "id": "aa9ac32e-667d-4e79-80a6-ae8dec76133d",
   "metadata": {},
   "outputs": [
    {
     "data": {
      "text/plain": [
       "dict"
      ]
     },
     "execution_count": 10,
     "metadata": {},
     "output_type": "execute_result"
    }
   ],
   "source": [
    "type(json_data)"
   ]
  },
  {
   "cell_type": "markdown",
   "id": "f24fb264-fad3-4cdb-9be9-6364eb0a058f",
   "metadata": {},
   "source": [
    "A custom function will be defined in utils.py to understand the structure of this JSON data."
   ]
  },
  {
   "cell_type": "code",
   "execution_count": 11,
   "id": "1eaf05f8-aa9c-413e-90e9-8ed520488056",
   "metadata": {},
   "outputs": [],
   "source": [
    "from utils import print_dict_keys"
   ]
  },
  {
   "cell_type": "code",
   "execution_count": null,
   "id": "7dc9ca0b-a979-41f2-acc3-1ff95f85fb68",
   "metadata": {},
   "outputs": [],
   "source": [
    "print_dict_keys(json_data)"
   ]
  },
  {
   "cell_type": "code",
   "execution_count": null,
   "id": "981d3840-36eb-43db-83f0-f248d1bc5c0d",
   "metadata": {},
   "outputs": [],
   "source": [
    "# Index into individual items\n",
    "json_data['props']['pageProps']['initialData']['searchResult']['itemStacks'][0]['items']"
   ]
  },
  {
   "cell_type": "code",
   "execution_count": 14,
   "id": "3df4f784-0459-45c7-a2d4-0922a7970d20",
   "metadata": {},
   "outputs": [
    {
     "data": {
      "text/plain": [
       "37"
      ]
     },
     "execution_count": 14,
     "metadata": {},
     "output_type": "execute_result"
    }
   ],
   "source": [
    "fall_items = json_data['props']['pageProps']['initialData']['searchResult']['itemStacks'][0]['items']\n",
    "len(fall_items)"
   ]
  },
  {
   "cell_type": "markdown",
   "id": "4e41dde0-5b1c-4075-8064-a60bd80e714f",
   "metadata": {},
   "source": [
    "Now there are 37 items in the list from the JSON response. Much better than the 9 from parsing the HTML. The dict contains fields such as priceInfo, name, shortDescription among other useful fields."
   ]
  },
  {
   "cell_type": "markdown",
   "id": "b9ca7cdf-2416-4687-9b65-a5432746fc53",
   "metadata": {},
   "source": [
    "#### Extracting Price"
   ]
  },
  {
   "cell_type": "code",
   "execution_count": 15,
   "id": "b7784cae-2ad1-45c8-8ef0-61333a7f9cad",
   "metadata": {},
   "outputs": [],
   "source": [
    "prices = [item.get('priceInfo', {}).get('linePrice', 'Price not available') for item in fall_items]"
   ]
  },
  {
   "cell_type": "code",
   "execution_count": 16,
   "id": "1c70d9a4-122d-473f-8d4e-a8e3c35aaf87",
   "metadata": {},
   "outputs": [
    {
     "data": {
      "text/plain": [
       "['$4.48',\n",
       " '$3.98',\n",
       " '$5.84',\n",
       " '$4.48',\n",
       " '$6.47',\n",
       " '$7.47',\n",
       " '$5.84',\n",
       " '$3.98',\n",
       " 'Price not available',\n",
       " '$3.98']"
      ]
     },
     "execution_count": 16,
     "metadata": {},
     "output_type": "execute_result"
    }
   ],
   "source": [
    "prices[:10]"
   ]
  },
  {
   "cell_type": "code",
   "execution_count": 17,
   "id": "41d4e64c-303a-4649-a399-59819e202cdc",
   "metadata": {},
   "outputs": [],
   "source": [
    "# Conver strings to floats\n",
    "def safe_convert_price(price_str):\n",
    "    try:\n",
    "        return float(price_str.replace('$', '').replace(',', ''))\n",
    "    except ValueError:\n",
    "        return None"
   ]
  },
  {
   "cell_type": "code",
   "execution_count": 18,
   "id": "6bbaa363-2564-45ee-8b65-baef874ce455",
   "metadata": {},
   "outputs": [],
   "source": [
    "new_prices = [safe_convert_price(i) for i in prices]"
   ]
  },
  {
   "cell_type": "code",
   "execution_count": 19,
   "id": "2d5ea8c5-d957-4d02-8b5c-779abb98c884",
   "metadata": {},
   "outputs": [
    {
     "data": {
      "text/plain": [
       "[4.48, 3.98, 5.84, 4.48, 6.47, 7.47, 5.84, 3.98, None, 3.98]"
      ]
     },
     "execution_count": 19,
     "metadata": {},
     "output_type": "execute_result"
    }
   ],
   "source": [
    "new_prices[:10]"
   ]
  },
  {
   "cell_type": "markdown",
   "id": "1b1f28a7-0963-4c02-91ee-de8723244b50",
   "metadata": {},
   "source": [
    "Float conversion has worked. Now we will collect the title, description, seller name, rating and number of reviews."
   ]
  },
  {
   "cell_type": "markdown",
   "id": "3f85b70e-8380-4e9a-b054-16b0e4a455e3",
   "metadata": {},
   "source": [
    "#### Extracting Title"
   ]
  },
  {
   "cell_type": "code",
   "execution_count": 20,
   "id": "4d7c3b66-9e29-4668-83aa-0507907fb3c0",
   "metadata": {},
   "outputs": [],
   "source": [
    "name = [item.get('name', None) for item in fall_items]"
   ]
  },
  {
   "cell_type": "code",
   "execution_count": 21,
   "id": "aa02ade6-dea4-4be9-a8f3-453f17b25fd7",
   "metadata": {},
   "outputs": [
    {
     "data": {
      "text/plain": [
       "['Freshness Guaranteed Tri Pumpkin Face Sugar Cookies, Baked, 11.2 oz, 9 Count',\n",
       " 'Freshness Guaranteed Harvest Orange Frosted Sugar Cookies, 13.5 oz, 10 Count, Round, Shelf-Stable/Ambient, and Ready to Eat',\n",
       " 'Freshness Guaranteed Pumpkin Cake Roll, 18 oz, 1 Count',\n",
       " 'Freshness Guaranteed Pumpkin Shaped Vanilla Frosted Cookie, 13.5 OZ, 10 Count, Soft and Chewy Prepared Dessert, Shelf Stable',\n",
       " 'Freshness Guaranteed Assorted Harvest Cookies, 21 oz, 45 Count',\n",
       " 'Freshness Guaranteed Sugared Shortbread Cookies, 16 oz, 18 Count, Baked',\n",
       " 'Freshness Guaranteed Frosted Sugar Cookies, Harvest Yellow and Orange 24.3 oz, 18 Count',\n",
       " 'Walmart Freshness Guaranteed Fall Vanilla & Chocolate Mini Cupcakes, 10 oz, 12 Count',\n",
       " None,\n",
       " 'Freshness Guaranteed Half Moon Iced Fall Bakery Cookies, 10oz, 10 Count, Ready to Eat']"
      ]
     },
     "execution_count": 21,
     "metadata": {},
     "output_type": "execute_result"
    }
   ],
   "source": [
    "name[:10]"
   ]
  },
  {
   "cell_type": "markdown",
   "id": "ea7cd02f-4a3c-44cb-bf8e-e0cc80a7eb84",
   "metadata": {},
   "source": [
    "#### Extracting Description"
   ]
  },
  {
   "cell_type": "code",
   "execution_count": 22,
   "id": "ac5256d9-dd4e-4bf1-94d4-6ec395d1370f",
   "metadata": {},
   "outputs": [],
   "source": [
    "short_desc = [item.get('shortDescription', None) for item in fall_items]"
   ]
  },
  {
   "cell_type": "code",
   "execution_count": 23,
   "id": "4675d797-25f8-4405-b499-bdc176a37d40",
   "metadata": {},
   "outputs": [
    {
     "data": {
      "text/plain": [
       "['<li>Freshness Guaranteed Tri Pumpkin Face Sugar Cookies</li><li>Kosher Dairy (OU-D)</li><li>A soft, multi-colored jack-o-lantern sugar cookie</li><li>Cookie shape: pumpkin</li>',\n",
       " '<li>Sugar cookies topped with creamy orange frosting</li><li>Dotted with fall inspired sprinkles to welcome autumn</li><li>Conveniently packaged for easy snacking on the go</li>',\n",
       " 'Pumpkin Cake Roll, Kosher certified, contains no high fructose corn syrup',\n",
       " '<li>Freshness Guaranteed Pumpkin Shaped Vanilla Frosted Cookie, 13.5 OZ, 10 Count</li><li>Soft and Chewy Prepared Dessert</li><li>Topped with a smooth, creamy vanilla frosting and Pumpkin design</li>',\n",
       " '<li>Includes about 45 cookies</li><li>Flavors include chocolate cookies, chocolate chip cookies, cinnamon spice cookies, shortbread cookies</li><li>Some cookies are topped with orange and yellow</li>',\n",
       " '<li>Freshness Guaranteed Sugared Shortbread Cookies, 16 oz, 18 Count</li><li>Shortbread cookies topped with a sugared coating</li><li>Nut-Free</li>',\n",
       " '<li>Harvest themed frosted sugar cookies</li><li>Sugar cookies with yellow and orange frosting</li><li>Topped with festive and multicolored sprinkles</li><li>18 servings per container</li>',\n",
       " '<li>Contains 12 bite-sized cupcakes</li><li>Assortment of moist, decadent vanilla and chocolate cupcakes</li><li>Frosted with orange and yellow buttercream icing, and topped with harvest-themed</li>',\n",
       " None,\n",
       " '<li>Freshness Guaranteed Half Moon Iced Fall Bakery Cookies</li><li>110 calories per cookie</li><li>10 cookies per sell unit</li><li>0 Trans Fat</li><li>Reclosable container to maintain freshness</li>']"
      ]
     },
     "execution_count": 23,
     "metadata": {},
     "output_type": "execute_result"
    }
   ],
   "source": [
    "short_desc[:10]"
   ]
  },
  {
   "cell_type": "code",
   "execution_count": 24,
   "id": "ceddc1c5-1742-4b2a-9173-65319f9f59c2",
   "metadata": {},
   "outputs": [],
   "source": [
    "# Function to remove li tags from description\n",
    "def replace_li(desc):\n",
    "    # Ensure desc is a string before replacing\n",
    "    if isinstance(desc, str):\n",
    "        new_desc = desc.replace('<li>', ' ').replace('</li>', ' ')\n",
    "        return new_desc.strip()\n",
    "    else:\n",
    "        return None"
   ]
  },
  {
   "cell_type": "code",
   "execution_count": 25,
   "id": "71c8fcf5-5494-4213-a61f-a503aefeb56d",
   "metadata": {},
   "outputs": [],
   "source": [
    "new_desc = [replace_li(i) for i in short_desc]"
   ]
  },
  {
   "cell_type": "code",
   "execution_count": 26,
   "id": "a2dbc128-c275-4748-8567-d80768bfac48",
   "metadata": {},
   "outputs": [
    {
     "data": {
      "text/plain": [
       "['Freshness Guaranteed Tri Pumpkin Face Sugar Cookies  Kosher Dairy (OU-D)  A soft, multi-colored jack-o-lantern sugar cookie  Cookie shape: pumpkin',\n",
       " 'Sugar cookies topped with creamy orange frosting  Dotted with fall inspired sprinkles to welcome autumn  Conveniently packaged for easy snacking on the go',\n",
       " 'Pumpkin Cake Roll, Kosher certified, contains no high fructose corn syrup',\n",
       " 'Freshness Guaranteed Pumpkin Shaped Vanilla Frosted Cookie, 13.5 OZ, 10 Count  Soft and Chewy Prepared Dessert  Topped with a smooth, creamy vanilla frosting and Pumpkin design',\n",
       " 'Includes about 45 cookies  Flavors include chocolate cookies, chocolate chip cookies, cinnamon spice cookies, shortbread cookies  Some cookies are topped with orange and yellow',\n",
       " 'Freshness Guaranteed Sugared Shortbread Cookies, 16 oz, 18 Count  Shortbread cookies topped with a sugared coating  Nut-Free',\n",
       " 'Harvest themed frosted sugar cookies  Sugar cookies with yellow and orange frosting  Topped with festive and multicolored sprinkles  18 servings per container',\n",
       " 'Contains 12 bite-sized cupcakes  Assortment of moist, decadent vanilla and chocolate cupcakes  Frosted with orange and yellow buttercream icing, and topped with harvest-themed',\n",
       " None,\n",
       " 'Freshness Guaranteed Half Moon Iced Fall Bakery Cookies  110 calories per cookie  10 cookies per sell unit  0 Trans Fat  Reclosable container to maintain freshness']"
      ]
     },
     "execution_count": 26,
     "metadata": {},
     "output_type": "execute_result"
    }
   ],
   "source": [
    "new_desc[:10]"
   ]
  },
  {
   "cell_type": "markdown",
   "id": "dcfef7dc-fd84-42da-b46f-59a5f63eee59",
   "metadata": {},
   "source": [
    "#### Extracting Weight"
   ]
  },
  {
   "cell_type": "code",
   "execution_count": 27,
   "id": "bb239f68-2637-4c56-be95-22e3a54ed400",
   "metadata": {},
   "outputs": [],
   "source": [
    "def extract_weight(description):\n",
    "    # Use a regex to find weight in the format 'X OZ'\n",
    "    if description:\n",
    "        match = re.search(r'(\\d+\\.?\\d*)\\s*OZ', description, re.IGNORECASE)\n",
    "        if match:\n",
    "            return float(match.group(1))\n",
    "    return None"
   ]
  },
  {
   "cell_type": "code",
   "execution_count": 28,
   "id": "26a6a398-4328-44b2-b7dc-52203ef2d229",
   "metadata": {},
   "outputs": [],
   "source": [
    "weights = [extract_weight(i) for i in new_desc]"
   ]
  },
  {
   "cell_type": "code",
   "execution_count": 29,
   "id": "82d53efd-6fc5-4188-bcd4-9dd167811d96",
   "metadata": {},
   "outputs": [
    {
     "data": {
      "text/plain": [
       "[None, None, None, 13.5, None, 16.0, None, None, None, None]"
      ]
     },
     "execution_count": 29,
     "metadata": {},
     "output_type": "execute_result"
    }
   ],
   "source": [
    "weights[:10]"
   ]
  },
  {
   "cell_type": "markdown",
   "id": "6298f786-14e8-46ae-a193-c6ee071afc02",
   "metadata": {},
   "source": [
    "#### Extracting Rating"
   ]
  },
  {
   "cell_type": "code",
   "execution_count": 30,
   "id": "7897c5c7-57ef-4ca0-bfcf-5ac0ec62d0d5",
   "metadata": {},
   "outputs": [],
   "source": [
    "rating = [i.get('rating', {}).get('averageRating', None) for i in fall_items]"
   ]
  },
  {
   "cell_type": "code",
   "execution_count": 31,
   "id": "062f8f72-5f4d-4eaf-b6f2-dc62bb4beadb",
   "metadata": {},
   "outputs": [
    {
     "data": {
      "text/plain": [
       "[0, 0, 0, 0, 0, 0, 0, 0, None, 0]"
      ]
     },
     "execution_count": 31,
     "metadata": {},
     "output_type": "execute_result"
    }
   ],
   "source": [
    "rating[:10]"
   ]
  },
  {
   "cell_type": "markdown",
   "id": "b2f2c697-9aa0-4adb-8133-39a119deaa44",
   "metadata": {},
   "source": [
    "#### Extracting Number of Reviews"
   ]
  },
  {
   "cell_type": "code",
   "execution_count": 32,
   "id": "8ce6b36c-b627-4e67-9889-7a6cfb9264e7",
   "metadata": {},
   "outputs": [],
   "source": [
    "reviews = [i.get('rating', {}).get('numberOfReviews', None) for i in fall_items]"
   ]
  },
  {
   "cell_type": "code",
   "execution_count": 33,
   "id": "ad07e23c-4e6f-4b58-b5ca-11d2bdee616e",
   "metadata": {},
   "outputs": [
    {
     "data": {
      "text/plain": [
       "[0, 0, 0, 0, 0, 0, 0, 0, None, 0]"
      ]
     },
     "execution_count": 33,
     "metadata": {},
     "output_type": "execute_result"
    }
   ],
   "source": [
    "reviews[:10]"
   ]
  },
  {
   "cell_type": "markdown",
   "id": "6c0601f0-60a8-452d-8d5d-bcde31418f1d",
   "metadata": {},
   "source": [
    "Let's validate the data to make sure all information was obtained and all lists are the same size."
   ]
  },
  {
   "cell_type": "code",
   "execution_count": 34,
   "id": "4757ec81-f6ba-41f9-90df-9ed79f0cc97d",
   "metadata": {},
   "outputs": [
    {
     "name": "stdout",
     "output_type": "stream",
     "text": [
      "37\n",
      "37\n",
      "37\n",
      "37\n",
      "37\n",
      "37\n"
     ]
    }
   ],
   "source": [
    "print(len(name))\n",
    "print(len(new_prices))\n",
    "print(len(new_desc))\n",
    "print(len(weights))\n",
    "print(len(rating))\n",
    "print(len(reviews))"
   ]
  },
  {
   "cell_type": "markdown",
   "id": "db8289d8-225c-4973-aeaf-f5ccb128b19f",
   "metadata": {},
   "source": [
    "All lists contain 37 items. Now that all data has been obtained, the information will be joined into a DataFrame."
   ]
  },
  {
   "cell_type": "code",
   "execution_count": 35,
   "id": "30bc5d01-d9bb-428d-b4a5-50921c1c1f61",
   "metadata": {},
   "outputs": [],
   "source": [
    "import pandas as pd"
   ]
  },
  {
   "cell_type": "code",
   "execution_count": 36,
   "id": "bc908aee-9842-4021-b784-22ce501852f1",
   "metadata": {},
   "outputs": [],
   "source": [
    "bakery_data = pd.DataFrame()"
   ]
  },
  {
   "cell_type": "code",
   "execution_count": 37,
   "id": "4c0f6380-655d-48cb-b88b-21ffe992758e",
   "metadata": {},
   "outputs": [],
   "source": [
    "bakery_data['Title'] = name\n",
    "bakery_data['Price'] = new_prices\n",
    "bakery_data['Description'] = new_desc\n",
    "bakery_data['Weight'] = weights\n",
    "bakery_data['Rating'] = rating\n",
    "bakery_data['NumReviews'] = reviews"
   ]
  },
  {
   "cell_type": "code",
   "execution_count": 38,
   "id": "604283a0-8d32-417e-bde3-e80fe5cbb980",
   "metadata": {},
   "outputs": [
    {
     "data": {
      "text/html": [
       "<div>\n",
       "<style scoped>\n",
       "    .dataframe tbody tr th:only-of-type {\n",
       "        vertical-align: middle;\n",
       "    }\n",
       "\n",
       "    .dataframe tbody tr th {\n",
       "        vertical-align: top;\n",
       "    }\n",
       "\n",
       "    .dataframe thead th {\n",
       "        text-align: right;\n",
       "    }\n",
       "</style>\n",
       "<table border=\"1\" class=\"dataframe\">\n",
       "  <thead>\n",
       "    <tr style=\"text-align: right;\">\n",
       "      <th></th>\n",
       "      <th>Title</th>\n",
       "      <th>Price</th>\n",
       "      <th>Description</th>\n",
       "      <th>Weight</th>\n",
       "      <th>Rating</th>\n",
       "      <th>NumReviews</th>\n",
       "    </tr>\n",
       "  </thead>\n",
       "  <tbody>\n",
       "    <tr>\n",
       "      <th>0</th>\n",
       "      <td>Freshness Guaranteed Tri Pumpkin Face Sugar Co...</td>\n",
       "      <td>4.48</td>\n",
       "      <td>Freshness Guaranteed Tri Pumpkin Face Sugar Co...</td>\n",
       "      <td>NaN</td>\n",
       "      <td>0.0</td>\n",
       "      <td>0.0</td>\n",
       "    </tr>\n",
       "    <tr>\n",
       "      <th>1</th>\n",
       "      <td>Freshness Guaranteed Harvest Orange Frosted Su...</td>\n",
       "      <td>3.98</td>\n",
       "      <td>Sugar cookies topped with creamy orange frosti...</td>\n",
       "      <td>NaN</td>\n",
       "      <td>0.0</td>\n",
       "      <td>0.0</td>\n",
       "    </tr>\n",
       "    <tr>\n",
       "      <th>2</th>\n",
       "      <td>Freshness Guaranteed Pumpkin Cake Roll, 18 oz,...</td>\n",
       "      <td>5.84</td>\n",
       "      <td>Pumpkin Cake Roll, Kosher certified, contains ...</td>\n",
       "      <td>NaN</td>\n",
       "      <td>0.0</td>\n",
       "      <td>0.0</td>\n",
       "    </tr>\n",
       "    <tr>\n",
       "      <th>3</th>\n",
       "      <td>Freshness Guaranteed Pumpkin Shaped Vanilla Fr...</td>\n",
       "      <td>4.48</td>\n",
       "      <td>Freshness Guaranteed Pumpkin Shaped Vanilla Fr...</td>\n",
       "      <td>13.5</td>\n",
       "      <td>0.0</td>\n",
       "      <td>0.0</td>\n",
       "    </tr>\n",
       "    <tr>\n",
       "      <th>4</th>\n",
       "      <td>Freshness Guaranteed Assorted Harvest Cookies,...</td>\n",
       "      <td>6.47</td>\n",
       "      <td>Includes about 45 cookies  Flavors include cho...</td>\n",
       "      <td>NaN</td>\n",
       "      <td>0.0</td>\n",
       "      <td>0.0</td>\n",
       "    </tr>\n",
       "    <tr>\n",
       "      <th>5</th>\n",
       "      <td>Freshness Guaranteed Sugared Shortbread Cookie...</td>\n",
       "      <td>7.47</td>\n",
       "      <td>Freshness Guaranteed Sugared Shortbread Cookie...</td>\n",
       "      <td>16.0</td>\n",
       "      <td>0.0</td>\n",
       "      <td>0.0</td>\n",
       "    </tr>\n",
       "    <tr>\n",
       "      <th>6</th>\n",
       "      <td>Freshness Guaranteed Frosted Sugar Cookies, Ha...</td>\n",
       "      <td>5.84</td>\n",
       "      <td>Harvest themed frosted sugar cookies  Sugar co...</td>\n",
       "      <td>NaN</td>\n",
       "      <td>0.0</td>\n",
       "      <td>0.0</td>\n",
       "    </tr>\n",
       "    <tr>\n",
       "      <th>7</th>\n",
       "      <td>Walmart Freshness Guaranteed Fall Vanilla &amp; Ch...</td>\n",
       "      <td>3.98</td>\n",
       "      <td>Contains 12 bite-sized cupcakes  Assortment of...</td>\n",
       "      <td>NaN</td>\n",
       "      <td>0.0</td>\n",
       "      <td>0.0</td>\n",
       "    </tr>\n",
       "    <tr>\n",
       "      <th>8</th>\n",
       "      <td>None</td>\n",
       "      <td>NaN</td>\n",
       "      <td>None</td>\n",
       "      <td>NaN</td>\n",
       "      <td>NaN</td>\n",
       "      <td>NaN</td>\n",
       "    </tr>\n",
       "    <tr>\n",
       "      <th>9</th>\n",
       "      <td>Freshness Guaranteed Half Moon Iced Fall Baker...</td>\n",
       "      <td>3.98</td>\n",
       "      <td>Freshness Guaranteed Half Moon Iced Fall Baker...</td>\n",
       "      <td>NaN</td>\n",
       "      <td>0.0</td>\n",
       "      <td>0.0</td>\n",
       "    </tr>\n",
       "  </tbody>\n",
       "</table>\n",
       "</div>"
      ],
      "text/plain": [
       "                                               Title  Price  \\\n",
       "0  Freshness Guaranteed Tri Pumpkin Face Sugar Co...   4.48   \n",
       "1  Freshness Guaranteed Harvest Orange Frosted Su...   3.98   \n",
       "2  Freshness Guaranteed Pumpkin Cake Roll, 18 oz,...   5.84   \n",
       "3  Freshness Guaranteed Pumpkin Shaped Vanilla Fr...   4.48   \n",
       "4  Freshness Guaranteed Assorted Harvest Cookies,...   6.47   \n",
       "5  Freshness Guaranteed Sugared Shortbread Cookie...   7.47   \n",
       "6  Freshness Guaranteed Frosted Sugar Cookies, Ha...   5.84   \n",
       "7  Walmart Freshness Guaranteed Fall Vanilla & Ch...   3.98   \n",
       "8                                               None    NaN   \n",
       "9  Freshness Guaranteed Half Moon Iced Fall Baker...   3.98   \n",
       "\n",
       "                                         Description  Weight  Rating  \\\n",
       "0  Freshness Guaranteed Tri Pumpkin Face Sugar Co...     NaN     0.0   \n",
       "1  Sugar cookies topped with creamy orange frosti...     NaN     0.0   \n",
       "2  Pumpkin Cake Roll, Kosher certified, contains ...     NaN     0.0   \n",
       "3  Freshness Guaranteed Pumpkin Shaped Vanilla Fr...    13.5     0.0   \n",
       "4  Includes about 45 cookies  Flavors include cho...     NaN     0.0   \n",
       "5  Freshness Guaranteed Sugared Shortbread Cookie...    16.0     0.0   \n",
       "6  Harvest themed frosted sugar cookies  Sugar co...     NaN     0.0   \n",
       "7  Contains 12 bite-sized cupcakes  Assortment of...     NaN     0.0   \n",
       "8                                               None     NaN     NaN   \n",
       "9  Freshness Guaranteed Half Moon Iced Fall Baker...     NaN     0.0   \n",
       "\n",
       "   NumReviews  \n",
       "0         0.0  \n",
       "1         0.0  \n",
       "2         0.0  \n",
       "3         0.0  \n",
       "4         0.0  \n",
       "5         0.0  \n",
       "6         0.0  \n",
       "7         0.0  \n",
       "8         NaN  \n",
       "9         0.0  "
      ]
     },
     "execution_count": 38,
     "metadata": {},
     "output_type": "execute_result"
    }
   ],
   "source": [
    "bakery_data.head(10)"
   ]
  },
  {
   "cell_type": "markdown",
   "id": "a42fdf63-7a39-4aa3-9c8a-535a45605bda",
   "metadata": {},
   "source": [
    "The dataframe contains all necessary information. When references with [Walmart's fall bakery collection](https://www.walmart.com/browse/food/seasonal-bakery/976759_976779_7443156_4622028?povid=976759_ItemCarousel_4302028_Fallbakerytreats_ViewAll_Rweb_Sept_05) the information is correct and matches up to the appropriate item."
   ]
  },
  {
   "cell_type": "markdown",
   "id": "df8d80a0-6f04-4481-8ea5-4f4bfb4e4e7b",
   "metadata": {},
   "source": [
    "Now this data will be cleaned."
   ]
  },
  {
   "cell_type": "markdown",
   "id": "1793608b-7613-4299-98ca-456d13e3c19a",
   "metadata": {},
   "source": [
    "### Cleaning Data"
   ]
  },
  {
   "cell_type": "code",
   "execution_count": 39,
   "id": "6aacd742-1fca-469a-89d7-48369e58ceba",
   "metadata": {},
   "outputs": [
    {
     "name": "stdout",
     "output_type": "stream",
     "text": [
      "<class 'pandas.core.frame.DataFrame'>\n",
      "RangeIndex: 37 entries, 0 to 36\n",
      "Data columns (total 6 columns):\n",
      " #   Column       Non-Null Count  Dtype  \n",
      "---  ------       --------------  -----  \n",
      " 0   Title        36 non-null     object \n",
      " 1   Price        35 non-null     float64\n",
      " 2   Description  35 non-null     object \n",
      " 3   Weight       12 non-null     float64\n",
      " 4   Rating       36 non-null     float64\n",
      " 5   NumReviews   36 non-null     float64\n",
      "dtypes: float64(4), object(2)\n",
      "memory usage: 1.9+ KB\n"
     ]
    }
   ],
   "source": [
    "bakery_data.info()"
   ]
  },
  {
   "cell_type": "code",
   "execution_count": 40,
   "id": "173dcbfc-15fb-44c6-a4f1-8295beb7588b",
   "metadata": {},
   "outputs": [],
   "source": [
    "# Where number of reviews is Nan, replace with 0\n",
    "bakery_data['NumReviews'] = bakery_data['NumReviews'].fillna(0).astype(int)"
   ]
  },
  {
   "cell_type": "code",
   "execution_count": 41,
   "id": "826efd49-6e3b-4853-903b-35d3c3a84a59",
   "metadata": {},
   "outputs": [
    {
     "data": {
      "text/plain": [
       "0    0\n",
       "1    0\n",
       "2    0\n",
       "3    0\n",
       "4    0\n",
       "5    0\n",
       "6    0\n",
       "7    0\n",
       "8    0\n",
       "9    0\n",
       "Name: NumReviews, dtype: int32"
      ]
     },
     "execution_count": 41,
     "metadata": {},
     "output_type": "execute_result"
    }
   ],
   "source": [
    "bakery_data['NumReviews'][:10]"
   ]
  },
  {
   "cell_type": "code",
   "execution_count": 42,
   "id": "db2375b2-9c38-4f16-ae00-244d102d849a",
   "metadata": {},
   "outputs": [],
   "source": [
    "bakery_data.loc[bakery_data['NumReviews'] == 0, 'Rating'] = None"
   ]
  },
  {
   "cell_type": "code",
   "execution_count": 43,
   "id": "441eb6c7-6193-44db-aa6b-1f07603ec42a",
   "metadata": {},
   "outputs": [],
   "source": [
    "# Drop items where the price or title is None\n",
    "bakery_data.dropna(subset=['Title', 'Price'], inplace=True)"
   ]
  },
  {
   "cell_type": "code",
   "execution_count": 44,
   "id": "9b6378b9-2848-4195-803d-80ade11b9747",
   "metadata": {},
   "outputs": [
    {
     "data": {
      "text/html": [
       "<div>\n",
       "<style scoped>\n",
       "    .dataframe tbody tr th:only-of-type {\n",
       "        vertical-align: middle;\n",
       "    }\n",
       "\n",
       "    .dataframe tbody tr th {\n",
       "        vertical-align: top;\n",
       "    }\n",
       "\n",
       "    .dataframe thead th {\n",
       "        text-align: right;\n",
       "    }\n",
       "</style>\n",
       "<table border=\"1\" class=\"dataframe\">\n",
       "  <thead>\n",
       "    <tr style=\"text-align: right;\">\n",
       "      <th></th>\n",
       "      <th>Title</th>\n",
       "      <th>Price</th>\n",
       "      <th>Description</th>\n",
       "      <th>Weight</th>\n",
       "      <th>Rating</th>\n",
       "      <th>NumReviews</th>\n",
       "    </tr>\n",
       "  </thead>\n",
       "  <tbody>\n",
       "    <tr>\n",
       "      <th>0</th>\n",
       "      <td>Freshness Guaranteed Tri Pumpkin Face Sugar Co...</td>\n",
       "      <td>4.48</td>\n",
       "      <td>Freshness Guaranteed Tri Pumpkin Face Sugar Co...</td>\n",
       "      <td>NaN</td>\n",
       "      <td>NaN</td>\n",
       "      <td>0</td>\n",
       "    </tr>\n",
       "    <tr>\n",
       "      <th>1</th>\n",
       "      <td>Freshness Guaranteed Harvest Orange Frosted Su...</td>\n",
       "      <td>3.98</td>\n",
       "      <td>Sugar cookies topped with creamy orange frosti...</td>\n",
       "      <td>NaN</td>\n",
       "      <td>NaN</td>\n",
       "      <td>0</td>\n",
       "    </tr>\n",
       "    <tr>\n",
       "      <th>2</th>\n",
       "      <td>Freshness Guaranteed Pumpkin Cake Roll, 18 oz,...</td>\n",
       "      <td>5.84</td>\n",
       "      <td>Pumpkin Cake Roll, Kosher certified, contains ...</td>\n",
       "      <td>NaN</td>\n",
       "      <td>NaN</td>\n",
       "      <td>0</td>\n",
       "    </tr>\n",
       "    <tr>\n",
       "      <th>3</th>\n",
       "      <td>Freshness Guaranteed Pumpkin Shaped Vanilla Fr...</td>\n",
       "      <td>4.48</td>\n",
       "      <td>Freshness Guaranteed Pumpkin Shaped Vanilla Fr...</td>\n",
       "      <td>13.5</td>\n",
       "      <td>NaN</td>\n",
       "      <td>0</td>\n",
       "    </tr>\n",
       "    <tr>\n",
       "      <th>4</th>\n",
       "      <td>Freshness Guaranteed Assorted Harvest Cookies,...</td>\n",
       "      <td>6.47</td>\n",
       "      <td>Includes about 45 cookies  Flavors include cho...</td>\n",
       "      <td>NaN</td>\n",
       "      <td>NaN</td>\n",
       "      <td>0</td>\n",
       "    </tr>\n",
       "    <tr>\n",
       "      <th>5</th>\n",
       "      <td>Freshness Guaranteed Sugared Shortbread Cookie...</td>\n",
       "      <td>7.47</td>\n",
       "      <td>Freshness Guaranteed Sugared Shortbread Cookie...</td>\n",
       "      <td>16.0</td>\n",
       "      <td>NaN</td>\n",
       "      <td>0</td>\n",
       "    </tr>\n",
       "    <tr>\n",
       "      <th>6</th>\n",
       "      <td>Freshness Guaranteed Frosted Sugar Cookies, Ha...</td>\n",
       "      <td>5.84</td>\n",
       "      <td>Harvest themed frosted sugar cookies  Sugar co...</td>\n",
       "      <td>NaN</td>\n",
       "      <td>NaN</td>\n",
       "      <td>0</td>\n",
       "    </tr>\n",
       "    <tr>\n",
       "      <th>7</th>\n",
       "      <td>Walmart Freshness Guaranteed Fall Vanilla &amp; Ch...</td>\n",
       "      <td>3.98</td>\n",
       "      <td>Contains 12 bite-sized cupcakes  Assortment of...</td>\n",
       "      <td>NaN</td>\n",
       "      <td>NaN</td>\n",
       "      <td>0</td>\n",
       "    </tr>\n",
       "    <tr>\n",
       "      <th>9</th>\n",
       "      <td>Freshness Guaranteed Half Moon Iced Fall Baker...</td>\n",
       "      <td>3.98</td>\n",
       "      <td>Freshness Guaranteed Half Moon Iced Fall Baker...</td>\n",
       "      <td>NaN</td>\n",
       "      <td>NaN</td>\n",
       "      <td>0</td>\n",
       "    </tr>\n",
       "    <tr>\n",
       "      <th>10</th>\n",
       "      <td>Freshness Guaranteed Assorted Summer Bakery Co...</td>\n",
       "      <td>9.94</td>\n",
       "      <td>Freshness Guaranteed Assorted Cookies</td>\n",
       "      <td>NaN</td>\n",
       "      <td>NaN</td>\n",
       "      <td>0</td>\n",
       "    </tr>\n",
       "    <tr>\n",
       "      <th>11</th>\n",
       "      <td>Freshness Guaranteed Mini Pumpkin Cake Bites, ...</td>\n",
       "      <td>6.47</td>\n",
       "      <td>Freshness Guaranteed Pumpkin Cake Bites, 13.5 ...</td>\n",
       "      <td>13.5</td>\n",
       "      <td>NaN</td>\n",
       "      <td>0</td>\n",
       "    </tr>\n",
       "    <tr>\n",
       "      <th>12</th>\n",
       "      <td>Walmart Patti Labelle Sweet Potato Thumbprint ...</td>\n",
       "      <td>7.47</td>\n",
       "      <td>Great tasting seasonal item!</td>\n",
       "      <td>NaN</td>\n",
       "      <td>NaN</td>\n",
       "      <td>0</td>\n",
       "    </tr>\n",
       "    <tr>\n",
       "      <th>13</th>\n",
       "      <td>Freshness Guaranteed Caramel Snack Mix, 12 oz,...</td>\n",
       "      <td>6.47</td>\n",
       "      <td>Shelf Stable  12 oz package  Re-closable conta...</td>\n",
       "      <td>12.0</td>\n",
       "      <td>3.5</td>\n",
       "      <td>2</td>\n",
       "    </tr>\n",
       "    <tr>\n",
       "      <th>14</th>\n",
       "      <td>Freshness Guaranteed Halloween Brownie Bites 2...</td>\n",
       "      <td>7.47</td>\n",
       "      <td>Freshness Guaranteed Halloween Brownie Bites 2...</td>\n",
       "      <td>22.2</td>\n",
       "      <td>NaN</td>\n",
       "      <td>0</td>\n",
       "    </tr>\n",
       "    <tr>\n",
       "      <th>15</th>\n",
       "      <td>Freshness Guaranteed Peanut Butter Snack Mix B...</td>\n",
       "      <td>6.47</td>\n",
       "      <td>Sweet glazed popcorn, mini twist pretzels, min...</td>\n",
       "      <td>NaN</td>\n",
       "      <td>NaN</td>\n",
       "      <td>0</td>\n",
       "    </tr>\n",
       "    <tr>\n",
       "      <th>16</th>\n",
       "      <td>Freshness Guaranteed Pumpkin Sandwich Cookies ...</td>\n",
       "      <td>7.47</td>\n",
       "      <td>Delicious pumpkin sandwich cookies  16 cookies...</td>\n",
       "      <td>NaN</td>\n",
       "      <td>NaN</td>\n",
       "      <td>0</td>\n",
       "    </tr>\n",
       "    <tr>\n",
       "      <th>17</th>\n",
       "      <td>Freshness Guaranteed Harvest Marshmallow Treat...</td>\n",
       "      <td>6.47</td>\n",
       "      <td>Crispy rice cereal mixed with gooey marshmallo...</td>\n",
       "      <td>NaN</td>\n",
       "      <td>NaN</td>\n",
       "      <td>0</td>\n",
       "    </tr>\n",
       "    <tr>\n",
       "      <th>18</th>\n",
       "      <td>Walmart Freshness Guaranteed Fall Gold Vanilla...</td>\n",
       "      <td>3.98</td>\n",
       "      <td>Moist, soft vanilla cupcakes   Beautiful yello...</td>\n",
       "      <td>NaN</td>\n",
       "      <td>NaN</td>\n",
       "      <td>0</td>\n",
       "    </tr>\n",
       "    <tr>\n",
       "      <th>19</th>\n",
       "      <td>Marketside Peanut Clusters, 12 oz, Ready to Ea...</td>\n",
       "      <td>6.47</td>\n",
       "      <td>Shelf Stable  12 oz package  Re-closable conta...</td>\n",
       "      <td>12.0</td>\n",
       "      <td>NaN</td>\n",
       "      <td>0</td>\n",
       "    </tr>\n",
       "    <tr>\n",
       "      <th>20</th>\n",
       "      <td>Freshness Guaranteed Harvest Swirl Baked Cooki...</td>\n",
       "      <td>4.48</td>\n",
       "      <td>Freshness Guaranteed Harvest Swirl Cookies, 12...</td>\n",
       "      <td>12.0</td>\n",
       "      <td>NaN</td>\n",
       "      <td>0</td>\n",
       "    </tr>\n",
       "    <tr>\n",
       "      <th>21</th>\n",
       "      <td>FG Chocolate and Vanilla Iced Mini Donuts  8oz...</td>\n",
       "      <td>4.48</td>\n",
       "      <td>Reclosable container  Peanut and Tree Nut Free...</td>\n",
       "      <td>NaN</td>\n",
       "      <td>NaN</td>\n",
       "      <td>0</td>\n",
       "    </tr>\n",
       "    <tr>\n",
       "      <th>22</th>\n",
       "      <td>Marketside Pumpkin White Chocolate Bakery Cook...</td>\n",
       "      <td>4.48</td>\n",
       "      <td>Made with white chocolate chunks, real pumpkin...</td>\n",
       "      <td>NaN</td>\n",
       "      <td>NaN</td>\n",
       "      <td>0</td>\n",
       "    </tr>\n",
       "    <tr>\n",
       "      <th>23</th>\n",
       "      <td>Freshness Guaranteed Harvest Shape Baked Cooki...</td>\n",
       "      <td>4.48</td>\n",
       "      <td>Freshness Guaranteed Harvest Shape Cookies, 12...</td>\n",
       "      <td>12.0</td>\n",
       "      <td>NaN</td>\n",
       "      <td>0</td>\n",
       "    </tr>\n",
       "    <tr>\n",
       "      <th>24</th>\n",
       "      <td>Marketside 10 Count Pretzel Flats Exposed Cara...</td>\n",
       "      <td>6.47</td>\n",
       "      <td>Marketside 10 count Flat Pretzels  Enrobed in ...</td>\n",
       "      <td>NaN</td>\n",
       "      <td>5.0</td>\n",
       "      <td>4</td>\n",
       "    </tr>\n",
       "    <tr>\n",
       "      <th>25</th>\n",
       "      <td>Marketside 8 Count Pretzel Rod Exposed Caramel...</td>\n",
       "      <td>5.84</td>\n",
       "      <td>Marketside Caramel Chocolate Covered Pretzel R...</td>\n",
       "      <td>NaN</td>\n",
       "      <td>3.0</td>\n",
       "      <td>1</td>\n",
       "    </tr>\n",
       "    <tr>\n",
       "      <th>26</th>\n",
       "      <td>Freshness Guaranteed Shortbread Cookies, Pumpk...</td>\n",
       "      <td>4.98</td>\n",
       "      <td>Freshness Guaranteed Pumpkin Spice Shortbread ...</td>\n",
       "      <td>9.5</td>\n",
       "      <td>NaN</td>\n",
       "      <td>0</td>\n",
       "    </tr>\n",
       "    <tr>\n",
       "      <th>27</th>\n",
       "      <td>Freshness Guaranteed Milk Chocolate &amp; White Co...</td>\n",
       "      <td>6.47</td>\n",
       "      <td>Delightful sweet and salty snack. Pretzels wit...</td>\n",
       "      <td>NaN</td>\n",
       "      <td>3.1</td>\n",
       "      <td>9</td>\n",
       "    </tr>\n",
       "    <tr>\n",
       "      <th>28</th>\n",
       "      <td>Bon Vivant Fall Rice Treat Pops, Chocolatey Di...</td>\n",
       "      <td>2.98</td>\n",
       "      <td>Marshmallowy Rice Treats are hand dipped in ch...</td>\n",
       "      <td>NaN</td>\n",
       "      <td>NaN</td>\n",
       "      <td>0</td>\n",
       "    </tr>\n",
       "    <tr>\n",
       "      <th>29</th>\n",
       "      <td>Marketside White Chocolate Candy Corn Crunch P...</td>\n",
       "      <td>4.48</td>\n",
       "      <td>Kettle corn popcorn glazed with a white chocol...</td>\n",
       "      <td>NaN</td>\n",
       "      <td>5.0</td>\n",
       "      <td>1</td>\n",
       "    </tr>\n",
       "    <tr>\n",
       "      <th>30</th>\n",
       "      <td>Krispie House Jumbo Fall French Toast Bakery R...</td>\n",
       "      <td>3.98</td>\n",
       "      <td>None</td>\n",
       "      <td>NaN</td>\n",
       "      <td>3.5</td>\n",
       "      <td>4</td>\n",
       "    </tr>\n",
       "    <tr>\n",
       "      <th>31</th>\n",
       "      <td>Freshness Guaranteed Patriotic Red, White &amp; Bl...</td>\n",
       "      <td>6.47</td>\n",
       "      <td>Vanilla Pretzel Snack Twists are salted and ge...</td>\n",
       "      <td>NaN</td>\n",
       "      <td>4.5</td>\n",
       "      <td>2</td>\n",
       "    </tr>\n",
       "    <tr>\n",
       "      <th>32</th>\n",
       "      <td>Freshness Guaranteed Apple Cider Donuts, 10 oz...</td>\n",
       "      <td>3.98</td>\n",
       "      <td>Freshness Guaranteed Apple Cider Donuts, 10 oz...</td>\n",
       "      <td>10.0</td>\n",
       "      <td>NaN</td>\n",
       "      <td>0</td>\n",
       "    </tr>\n",
       "    <tr>\n",
       "      <th>33</th>\n",
       "      <td>Freshness Guaranteed Fall Cream Cheese Brownie...</td>\n",
       "      <td>4.48</td>\n",
       "      <td>Freshness Guaranteed Fall Brownies, 13 oz Clam...</td>\n",
       "      <td>13.0</td>\n",
       "      <td>NaN</td>\n",
       "      <td>0</td>\n",
       "    </tr>\n",
       "    <tr>\n",
       "      <th>34</th>\n",
       "      <td>Marketside Dutch Style Pretzel Covered in Cara...</td>\n",
       "      <td>6.47</td>\n",
       "      <td>Marketside 8ct Caramel Exposed Dutch Pretzel</td>\n",
       "      <td>NaN</td>\n",
       "      <td>NaN</td>\n",
       "      <td>0</td>\n",
       "    </tr>\n",
       "    <tr>\n",
       "      <th>36</th>\n",
       "      <td>Freshness Guaranteed Halloween Cookie Kit, 23....</td>\n",
       "      <td>5.67</td>\n",
       "      <td>Freshness Guaranteed Halloween Cookie Kit, 23....</td>\n",
       "      <td>23.3</td>\n",
       "      <td>2.1</td>\n",
       "      <td>13</td>\n",
       "    </tr>\n",
       "  </tbody>\n",
       "</table>\n",
       "</div>"
      ],
      "text/plain": [
       "                                                Title  Price  \\\n",
       "0   Freshness Guaranteed Tri Pumpkin Face Sugar Co...   4.48   \n",
       "1   Freshness Guaranteed Harvest Orange Frosted Su...   3.98   \n",
       "2   Freshness Guaranteed Pumpkin Cake Roll, 18 oz,...   5.84   \n",
       "3   Freshness Guaranteed Pumpkin Shaped Vanilla Fr...   4.48   \n",
       "4   Freshness Guaranteed Assorted Harvest Cookies,...   6.47   \n",
       "5   Freshness Guaranteed Sugared Shortbread Cookie...   7.47   \n",
       "6   Freshness Guaranteed Frosted Sugar Cookies, Ha...   5.84   \n",
       "7   Walmart Freshness Guaranteed Fall Vanilla & Ch...   3.98   \n",
       "9   Freshness Guaranteed Half Moon Iced Fall Baker...   3.98   \n",
       "10  Freshness Guaranteed Assorted Summer Bakery Co...   9.94   \n",
       "11  Freshness Guaranteed Mini Pumpkin Cake Bites, ...   6.47   \n",
       "12  Walmart Patti Labelle Sweet Potato Thumbprint ...   7.47   \n",
       "13  Freshness Guaranteed Caramel Snack Mix, 12 oz,...   6.47   \n",
       "14  Freshness Guaranteed Halloween Brownie Bites 2...   7.47   \n",
       "15  Freshness Guaranteed Peanut Butter Snack Mix B...   6.47   \n",
       "16  Freshness Guaranteed Pumpkin Sandwich Cookies ...   7.47   \n",
       "17  Freshness Guaranteed Harvest Marshmallow Treat...   6.47   \n",
       "18  Walmart Freshness Guaranteed Fall Gold Vanilla...   3.98   \n",
       "19  Marketside Peanut Clusters, 12 oz, Ready to Ea...   6.47   \n",
       "20  Freshness Guaranteed Harvest Swirl Baked Cooki...   4.48   \n",
       "21  FG Chocolate and Vanilla Iced Mini Donuts  8oz...   4.48   \n",
       "22  Marketside Pumpkin White Chocolate Bakery Cook...   4.48   \n",
       "23  Freshness Guaranteed Harvest Shape Baked Cooki...   4.48   \n",
       "24  Marketside 10 Count Pretzel Flats Exposed Cara...   6.47   \n",
       "25  Marketside 8 Count Pretzel Rod Exposed Caramel...   5.84   \n",
       "26  Freshness Guaranteed Shortbread Cookies, Pumpk...   4.98   \n",
       "27  Freshness Guaranteed Milk Chocolate & White Co...   6.47   \n",
       "28  Bon Vivant Fall Rice Treat Pops, Chocolatey Di...   2.98   \n",
       "29  Marketside White Chocolate Candy Corn Crunch P...   4.48   \n",
       "30  Krispie House Jumbo Fall French Toast Bakery R...   3.98   \n",
       "31  Freshness Guaranteed Patriotic Red, White & Bl...   6.47   \n",
       "32  Freshness Guaranteed Apple Cider Donuts, 10 oz...   3.98   \n",
       "33  Freshness Guaranteed Fall Cream Cheese Brownie...   4.48   \n",
       "34  Marketside Dutch Style Pretzel Covered in Cara...   6.47   \n",
       "36  Freshness Guaranteed Halloween Cookie Kit, 23....   5.67   \n",
       "\n",
       "                                          Description  Weight  Rating  \\\n",
       "0   Freshness Guaranteed Tri Pumpkin Face Sugar Co...     NaN     NaN   \n",
       "1   Sugar cookies topped with creamy orange frosti...     NaN     NaN   \n",
       "2   Pumpkin Cake Roll, Kosher certified, contains ...     NaN     NaN   \n",
       "3   Freshness Guaranteed Pumpkin Shaped Vanilla Fr...    13.5     NaN   \n",
       "4   Includes about 45 cookies  Flavors include cho...     NaN     NaN   \n",
       "5   Freshness Guaranteed Sugared Shortbread Cookie...    16.0     NaN   \n",
       "6   Harvest themed frosted sugar cookies  Sugar co...     NaN     NaN   \n",
       "7   Contains 12 bite-sized cupcakes  Assortment of...     NaN     NaN   \n",
       "9   Freshness Guaranteed Half Moon Iced Fall Baker...     NaN     NaN   \n",
       "10              Freshness Guaranteed Assorted Cookies     NaN     NaN   \n",
       "11  Freshness Guaranteed Pumpkin Cake Bites, 13.5 ...    13.5     NaN   \n",
       "12                       Great tasting seasonal item!     NaN     NaN   \n",
       "13  Shelf Stable  12 oz package  Re-closable conta...    12.0     3.5   \n",
       "14  Freshness Guaranteed Halloween Brownie Bites 2...    22.2     NaN   \n",
       "15  Sweet glazed popcorn, mini twist pretzels, min...     NaN     NaN   \n",
       "16  Delicious pumpkin sandwich cookies  16 cookies...     NaN     NaN   \n",
       "17  Crispy rice cereal mixed with gooey marshmallo...     NaN     NaN   \n",
       "18  Moist, soft vanilla cupcakes   Beautiful yello...     NaN     NaN   \n",
       "19  Shelf Stable  12 oz package  Re-closable conta...    12.0     NaN   \n",
       "20  Freshness Guaranteed Harvest Swirl Cookies, 12...    12.0     NaN   \n",
       "21  Reclosable container  Peanut and Tree Nut Free...     NaN     NaN   \n",
       "22  Made with white chocolate chunks, real pumpkin...     NaN     NaN   \n",
       "23  Freshness Guaranteed Harvest Shape Cookies, 12...    12.0     NaN   \n",
       "24  Marketside 10 count Flat Pretzels  Enrobed in ...     NaN     5.0   \n",
       "25  Marketside Caramel Chocolate Covered Pretzel R...     NaN     3.0   \n",
       "26  Freshness Guaranteed Pumpkin Spice Shortbread ...     9.5     NaN   \n",
       "27  Delightful sweet and salty snack. Pretzels wit...     NaN     3.1   \n",
       "28  Marshmallowy Rice Treats are hand dipped in ch...     NaN     NaN   \n",
       "29  Kettle corn popcorn glazed with a white chocol...     NaN     5.0   \n",
       "30                                               None     NaN     3.5   \n",
       "31  Vanilla Pretzel Snack Twists are salted and ge...     NaN     4.5   \n",
       "32  Freshness Guaranteed Apple Cider Donuts, 10 oz...    10.0     NaN   \n",
       "33  Freshness Guaranteed Fall Brownies, 13 oz Clam...    13.0     NaN   \n",
       "34       Marketside 8ct Caramel Exposed Dutch Pretzel     NaN     NaN   \n",
       "36  Freshness Guaranteed Halloween Cookie Kit, 23....    23.3     2.1   \n",
       "\n",
       "    NumReviews  \n",
       "0            0  \n",
       "1            0  \n",
       "2            0  \n",
       "3            0  \n",
       "4            0  \n",
       "5            0  \n",
       "6            0  \n",
       "7            0  \n",
       "9            0  \n",
       "10           0  \n",
       "11           0  \n",
       "12           0  \n",
       "13           2  \n",
       "14           0  \n",
       "15           0  \n",
       "16           0  \n",
       "17           0  \n",
       "18           0  \n",
       "19           0  \n",
       "20           0  \n",
       "21           0  \n",
       "22           0  \n",
       "23           0  \n",
       "24           4  \n",
       "25           1  \n",
       "26           0  \n",
       "27           9  \n",
       "28           0  \n",
       "29           1  \n",
       "30           4  \n",
       "31           2  \n",
       "32           0  \n",
       "33           0  \n",
       "34           0  \n",
       "36          13  "
      ]
     },
     "execution_count": 44,
     "metadata": {},
     "output_type": "execute_result"
    }
   ],
   "source": [
    "bakery_data"
   ]
  },
  {
   "cell_type": "markdown",
   "id": "f179f30b-72ec-4cb3-969f-c25b75073145",
   "metadata": {},
   "source": [
    "Now that the data is in an acceptable format. We are ready to load the data into the Snowflake database."
   ]
  },
  {
   "cell_type": "code",
   "execution_count": 45,
   "id": "5f46d261-ed38-48fe-950a-3e38c202fd8b",
   "metadata": {},
   "outputs": [
    {
     "data": {
      "text/plain": [
       "192"
      ]
     },
     "execution_count": 45,
     "metadata": {},
     "output_type": "execute_result"
    }
   ],
   "source": [
    "# Checking longest description to determine needed length for storage\n",
    "filtered_desc = [desc for desc in new_desc if desc is not None]\n",
    "len(max(filtered_desc, key=len))"
   ]
  },
  {
   "cell_type": "code",
   "execution_count": 52,
   "id": "4ee56f5e-98cc-4f11-a234-cfb49dc89fbf",
   "metadata": {},
   "outputs": [
    {
     "data": {
      "text/plain": [
       "184"
      ]
     },
     "execution_count": 52,
     "metadata": {},
     "output_type": "execute_result"
    }
   ],
   "source": [
    "# Checking longest title to determine needed length for storage\n",
    "filtered_title = [i for i in name if i is not None]\n",
    "len(max(filtered_title, key=len))"
   ]
  },
  {
   "cell_type": "markdown",
   "id": "3926c706-b2a3-42bd-935b-4ef25dda0302",
   "metadata": {},
   "source": [
    "In the creation of the bakery_tems table, description will be VARCHAR(200) and title will be VARCHAR(200)."
   ]
  },
  {
   "cell_type": "code",
   "execution_count": 47,
   "id": "735a11a4-ed4c-4fbb-b8bc-266dc82fe0b8",
   "metadata": {},
   "outputs": [],
   "source": [
    "# Rename columns before insertion:\n",
    "bakery_data.rename(columns=lambda x: x.upper(), inplace=True)\n",
    "bakery_data.rename(columns={'NUMREVIEWS': 'NUM_REVIEWS'}, inplace=True)"
   ]
  },
  {
   "cell_type": "code",
   "execution_count": 48,
   "id": "89667546-2786-457b-b08b-d8a68790ceae",
   "metadata": {},
   "outputs": [
    {
     "data": {
      "text/plain": [
       "Index(['TITLE', 'PRICE', 'DESCRIPTION', 'WEIGHT', 'RATING', 'NUM_REVIEWS'], dtype='object')"
      ]
     },
     "execution_count": 48,
     "metadata": {},
     "output_type": "execute_result"
    }
   ],
   "source": [
    "bakery_data.columns"
   ]
  },
  {
   "cell_type": "markdown",
   "id": "89d337f9-7237-4c6e-a3bc-1c0ea4d84e64",
   "metadata": {},
   "source": [
    "### Loading Data"
   ]
  },
  {
   "cell_type": "code",
   "execution_count": 49,
   "id": "279bb8f5-0eda-4f4b-85fa-e6d807c9f72f",
   "metadata": {},
   "outputs": [
    {
     "name": "stdout",
     "output_type": "stream",
     "text": [
      "Data successfully loaded.\n"
     ]
    }
   ],
   "source": [
    "import snowflake.connector\n",
    "from snowflake.connector.pandas_tools import write_pandas\n",
    "import os\n",
    "\n",
    "# Retrieve connection info from environment variables\n",
    "user = os.getenv('SNOWFLAKE_USER')\n",
    "password = os.getenv('SNOWFLAKE_PASSWORD')\n",
    "account = os.getenv('SNOWFLAKE_ACCOUNT')\n",
    "warehouse = os.getenv('SNOWFLAKE_WAREHOUSE')\n",
    "database = os.getenv('SNOWFLAKE_DATABASE')\n",
    "schema = os.getenv('SNOWFLAKE_SCHEMA')\n",
    "\n",
    "# Establish connection\n",
    "try:\n",
    "    conn = snowflake.connector.connect(\n",
    "        user=user,\n",
    "        password=password,\n",
    "        account=account,\n",
    "        warehouse=warehouse,\n",
    "        database=database,\n",
    "        schema=schema,\n",
    "        role='ACCOUNTADMIN'\n",
    "    )\n",
    "\n",
    "    if conn:\n",
    "        cur = conn.cursor()\n",
    "        \n",
    "        write_pandas(conn, bakery_data, 'BAKERY_ITEMS')\n",
    "        print(\"Data successfully loaded.\")\n",
    "\n",
    "    cur.close()\n",
    "    conn.close()\n",
    "   \n",
    "except Exception as e:\n",
    "    print(f\"Error: {e}\")"
   ]
  }
 ],
 "metadata": {
  "kernelspec": {
   "display_name": "Python 3 (ipykernel)",
   "language": "python",
   "name": "python3"
  },
  "language_info": {
   "codemirror_mode": {
    "name": "ipython",
    "version": 3
   },
   "file_extension": ".py",
   "mimetype": "text/x-python",
   "name": "python",
   "nbconvert_exporter": "python",
   "pygments_lexer": "ipython3",
   "version": "3.11.5"
  }
 },
 "nbformat": 4,
 "nbformat_minor": 5
}
